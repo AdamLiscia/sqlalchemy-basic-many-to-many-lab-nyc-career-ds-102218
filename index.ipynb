{
 "cells": [
  {
   "cell_type": "markdown",
   "metadata": {},
   "source": [
    "# SQLAlchemy Basic Many to Many Association"
   ]
  },
  {
   "cell_type": "markdown",
   "metadata": {},
   "source": [
    "## Objectives\n",
    "\n",
    "1.  Build a \"has many through\" relationship using SQLAlchemy\n",
    "2.  Write an Alembic migration to create a join table consisting of only foreign keys\n",
    "3.  Query from a database containing this relationship"
   ]
  },
  {
   "cell_type": "markdown",
   "metadata": {},
   "source": [
    "## Instructions\n",
    "\n",
    "In the \"One to many\" associations lab, we used SQLAlchemy to create establish a \"belongs to\" and \"has many\" relationship between our `Actor` and `Role` classes.  Every instance of the Actor class could have many roles, and each instance of the Role class belonged to an Actor.\n",
    "\n",
    "This relationship might not properly mimic the real world, however.  Although Actors do have many Roles, shouldn't a Role also have many Actors?  For instance, the role of James Bond has been played by Sean Connery, George Lazenby, Roger Moore, Pierce Brosnan, and Daniel Craig.  In this lab, we will build out this relationship by creating a join table called `actor_roles` containing `actor_id` and `role_id` columns."
   ]
  },
  {
   "cell_type": "markdown",
   "metadata": {},
   "source": [
    "#### `Actor` and `Role`"
   ]
  },
  {
   "cell_type": "markdown",
   "metadata": {},
   "source": [
    "* Create classes for `Actor` and `Role` in `models.py`\n",
    "    * Every Actor has an id (primary key) and a name\n",
    "    * Every Role has an id (primary key) and a character"
   ]
  },
  {
   "cell_type": "markdown",
   "metadata": {},
   "source": [
    "#### `ActorRole`"
   ]
  },
  {
   "cell_type": "markdown",
   "metadata": {},
   "source": [
    "Write an Alembic migration to create the `actor_roles` join table\n",
    "\n",
    "* Recall the Alembic migration flow:\n",
    "    - run `alembic init alembic`\n",
    "    - change the sqlalchemy.url in `alembic.ini`\n",
    "    - create a migration with `alembic revision -m \"<migration name here>\"`\n",
    "    - fill in the upgrade and downgrade functions\n",
    "    - run `alembic upgrade head`\n",
    "\n",
    "\n",
    "* add foreign keys for `actor_id` and `role_id` using the following format:\n",
    ">  ```\n",
    "   sa.Column(\n",
    "      'actor_id', sa.Integer,\n",
    "      sa.ForeignKey('actors.id'), primary_key=True\n",
    "   )\n",
    "  ```"
   ]
  },
  {
   "cell_type": "markdown",
   "metadata": {},
   "source": [
    "* Write a class model for the join table, `ActorRole`, in `models.py`\n",
    "    * make sure to specify the ForeignKey when adding columns for `actor_id` and `role_id`"
   ]
  },
  {
   "cell_type": "markdown",
   "metadata": {},
   "source": [
    "#### Update `Actor` and `Role` models"
   ]
  },
  {
   "cell_type": "markdown",
   "metadata": {},
   "source": [
    "* Establish the association between the two models with the `relationship()` function\n",
    "    - Actor: `roles = relationship('Role', secondary='actor_roles')`\n",
    "    - Role: `actors = relationship('Actor', secondary='actor_roles')`"
   ]
  },
  {
   "cell_type": "markdown",
   "metadata": {},
   "source": [
    "#### Query from the relationship"
   ]
  },
  {
   "cell_type": "markdown",
   "metadata": {},
   "source": [
    "Write queries in `query.py` to satisfy the tests.\n",
    "\n",
    "* `return_christian_bales_roles` should return the list of Christian Bale's role instances\n",
    "* `return_catwoman_actors` should return the list of actors that have played Catwoman\n",
    "* `return_number_of_batman_actors` should return the number of actors in the database who have played Batman"
   ]
  }
 ],
 "metadata": {
  "kernelspec": {
   "display_name": "Python 3",
   "language": "python",
   "name": "python3"
  },
  "language_info": {
   "codemirror_mode": {
    "name": "ipython",
    "version": 3
   },
   "file_extension": ".py",
   "mimetype": "text/x-python",
   "name": "python",
   "nbconvert_exporter": "python",
   "pygments_lexer": "ipython3",
   "version": "3.6.4"
  }
 },
 "nbformat": 4,
 "nbformat_minor": 2
}
